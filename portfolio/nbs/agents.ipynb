{
 "cells": [
  {
   "cell_type": "markdown",
   "id": "29b6c945-6fc2-4f5c-b4b3-01c4f5fa268d",
   "metadata": {},
   "source": [
    "## Imports"
   ]
  },
  {
   "cell_type": "code",
   "execution_count": 1,
   "id": "5455b48a-8505-4ab0-b36e-b9288e5c3917",
   "metadata": {},
   "outputs": [
    {
     "data": {
      "text/plain": [
       "True"
      ]
     },
     "execution_count": 1,
     "metadata": {},
     "output_type": "execute_result"
    }
   ],
   "source": [
    "from dotenv import load_dotenv\n",
    "load_dotenv()"
   ]
  },
  {
   "cell_type": "code",
   "execution_count": 2,
   "id": "419037b8-8ade-473d-9ba2-527b3bfc3057",
   "metadata": {},
   "outputs": [],
   "source": [
    "import os\n",
    "import time\n",
    "from langchain import hub\n",
    "from langchain.tools import tool\n",
    "from collections import defaultdict\n",
    "from langchain_openai import ChatOpenAI\n",
    "from langchain_core.tools import BaseTool\n",
    "from langchain.agents import AgentExecutor\n",
    "from langchain_openai import OpenAIEmbeddings\n",
    "from pydantic.v1 import BaseModel, Field, EmailStr\n",
    "from langchain_pinecone import PineconeVectorStore\n",
    "from langchain.memory import ConversationBufferMemory\n",
    "from langchain_core.runnables import RunnablePassthrough\n",
    "from langchain_core.utils.input import get_color_mapping\n",
    "from langchain_core.callbacks import CallbackManagerForChainRun\n",
    "from typing import Optional, Dict, Any, List, Tuple, Iterator, Union\n",
    "from langchain_core.agents import AgentAction, AgentFinish, AgentStep\n",
    "from langchain.agents.format_scratchpad import format_to_openai_functions\n",
    "from langchain.agents.output_parsers import OpenAIFunctionsAgentOutputParser\n",
    "from langchain_core.utils.function_calling import convert_to_openai_function\n",
    "from langchain_core.callbacks import AsyncCallbackManagerForToolRun, CallbackManagerForToolRun"
   ]
  },
  {
   "cell_type": "markdown",
   "id": "645efc02-14d8-40da-ba38-47e83d47be0e",
   "metadata": {},
   "source": [
    "## Define Langchain Utilitites"
   ]
  },
  {
   "cell_type": "code",
   "execution_count": 3,
   "id": "cc8d071d-7b29-47f9-91d1-a24b63c367e3",
   "metadata": {},
   "outputs": [],
   "source": [
    "class DuplicateTool(BaseTool):\n",
    "    \"\"\"Tool that is run when a tool gets called repeatedly.\"\"\"\n",
    "\n",
    "    name: str = \"duplicate_tool\"\n",
    "    description: str = \"Called when a tool gets called repeatedly.\"\n",
    "        \n",
    "    def _run(\n",
    "        self,\n",
    "        tool_name: str,\n",
    "        run_manager: Optional[CallbackManagerForToolRun] = None,\n",
    "    ) -> str:\n",
    "        \"\"\"Use the tool.\"\"\"\n",
    "        return (\n",
    "            f\"`{tool_name}` called too many times.\"\n",
    "        )\n",
    "\n",
    "    async def _arun(\n",
    "        self,\n",
    "        tool_name: str,\n",
    "        run_manager: Optional[AsyncCallbackManagerForToolRun] = None,\n",
    "    ) -> str:\n",
    "        \"\"\"Use the tool asynchronously.\"\"\"\n",
    "        return (\n",
    "            f\"`{tool_name}` called too many times.\"\n",
    "        )\n",
    "\n",
    "\n",
    "class CustomAgentExecutor(AgentExecutor):\n",
    "\n",
    "    tool_counter = defaultdict(int)\n",
    "\n",
    "    def _perform_agent_action(\n",
    "        self,\n",
    "        name_to_tool_map: Dict[str, BaseTool],\n",
    "        color_mapping: Dict[str, str],\n",
    "        agent_action: AgentAction,\n",
    "        run_manager: Optional[CallbackManagerForChainRun] = None,\n",
    "    ) -> AgentStep:\n",
    "        if run_manager:\n",
    "            run_manager.on_agent_action(agent_action, color=\"green\")\n",
    "        # Otherwise we lookup the tool\n",
    "        if agent_action.tool in name_to_tool_map:\n",
    "            tool = name_to_tool_map[agent_action.tool]\n",
    "            return_direct = tool.return_direct\n",
    "            color = color_mapping[agent_action.tool]\n",
    "            tool_run_kwargs = self.agent.tool_run_logging_kwargs()\n",
    "            if return_direct:\n",
    "                tool_run_kwargs[\"llm_prefix\"] = \"\"\n",
    "            # We then call the tool on the tool input to get an observation\n",
    "            if agent_action.tool == \"send_email\" and self.tool_counter[agent_action.tool] > 1:\n",
    "                observation = DuplicateTool().run(\n",
    "                    {\n",
    "                        \"tool_name\": agent_action.tool\n",
    "                    },\n",
    "                    verbose=self.verbose,\n",
    "                    color=None,\n",
    "                    callbacks=run_manager.get_child() if run_manager else None,\n",
    "                    **tool_run_kwargs,\n",
    "                )\n",
    "            else:\n",
    "                observation = tool.run(\n",
    "                    agent_action.tool_input,\n",
    "                    verbose=self.verbose,\n",
    "                    color=color,\n",
    "                    callbacks=run_manager.get_child() if run_manager else None,\n",
    "                    **tool_run_kwargs,\n",
    "                )\n",
    "        else:\n",
    "            tool_run_kwargs = self.agent.tool_run_logging_kwargs()\n",
    "            observation = InvalidTool().run(\n",
    "                {\n",
    "                    \"requested_tool_name\": agent_action.tool,\n",
    "                    \"available_tool_names\": list(name_to_tool_map.keys()),\n",
    "                },\n",
    "                verbose=self.verbose,\n",
    "                color=None,\n",
    "                callbacks=run_manager.get_child() if run_manager else None,\n",
    "                **tool_run_kwargs,\n",
    "            )\n",
    "        return AgentStep(action=agent_action, observation=observation)\n",
    "\n",
    "    def _iter_next_step(\n",
    "        self,\n",
    "        name_to_tool_map: Dict[str, BaseTool],\n",
    "        color_mapping: Dict[str, str],\n",
    "        inputs: Dict[str, str],\n",
    "        intermediate_steps: List[Tuple[AgentAction, str]],\n",
    "        run_manager: Optional[CallbackManagerForChainRun] = None,\n",
    "    ) -> Iterator[Union[AgentFinish, AgentAction, AgentStep]]:\n",
    "        \"\"\"Take a single step in the thought-action-observation loop.\n",
    "\n",
    "        Override this to take control of how the agent makes and acts on choices.\n",
    "        \"\"\"\n",
    "        try:\n",
    "            intermediate_steps = self._prepare_intermediate_steps(intermediate_steps)\n",
    "\n",
    "            # Call the LLM to see what to do.\n",
    "            output = self.agent.plan(\n",
    "                intermediate_steps,\n",
    "                callbacks=run_manager.get_child() if run_manager else None,\n",
    "                **inputs,\n",
    "            )\n",
    "        except OutputParserException as e:\n",
    "            if isinstance(self.handle_parsing_errors, bool):\n",
    "                raise_error = not self.handle_parsing_errors\n",
    "            else:\n",
    "                raise_error = False\n",
    "            if raise_error:\n",
    "                raise ValueError(\n",
    "                    \"An output parsing error occurred. \"\n",
    "                    \"In order to pass this error back to the agent and have it try \"\n",
    "                    \"again, pass `handle_parsing_errors=True` to the AgentExecutor. \"\n",
    "                    f\"This is the error: {str(e)}\"\n",
    "                )\n",
    "            text = str(e)\n",
    "            if isinstance(self.handle_parsing_errors, bool):\n",
    "                if e.send_to_llm:\n",
    "                    observation = str(e.observation)\n",
    "                    text = str(e.llm_output)\n",
    "                else:\n",
    "                    observation = \"Invalid or incomplete response\"\n",
    "            elif isinstance(self.handle_parsing_errors, str):\n",
    "                observation = self.handle_parsing_errors\n",
    "            elif callable(self.handle_parsing_errors):\n",
    "                observation = self.handle_parsing_errors(e)\n",
    "            else:\n",
    "                raise ValueError(\"Got unexpected type of `handle_parsing_errors`\")\n",
    "            output = AgentAction(\"_Exception\", observation, text)\n",
    "            if run_manager:\n",
    "                run_manager.on_agent_action(output, color=\"green\")\n",
    "            tool_run_kwargs = self.agent.tool_run_logging_kwargs()\n",
    "            observation = ExceptionTool().run(\n",
    "                output.tool_input,\n",
    "                verbose=self.verbose,\n",
    "                color=None,\n",
    "                callbacks=run_manager.get_child() if run_manager else None,\n",
    "                **tool_run_kwargs,\n",
    "            )\n",
    "            yield AgentStep(action=output, observation=observation)\n",
    "            return\n",
    "\n",
    "        # If the tool chosen is the finishing tool, then we end and return.\n",
    "        if isinstance(output, AgentFinish):\n",
    "            yield output\n",
    "            return\n",
    "\n",
    "        actions: List[AgentAction]\n",
    "        if isinstance(output, AgentAction):\n",
    "            actions = [output]\n",
    "        else:\n",
    "            actions = output\n",
    "        for agent_action in actions:\n",
    "            self.tool_counter[agent_action.tool] += 1\n",
    "        for agent_action in actions:\n",
    "            yield agent_action\n",
    "        for agent_action in actions:\n",
    "            yield self._perform_agent_action(\n",
    "                name_to_tool_map, color_mapping, agent_action, run_manager\n",
    "            )\n",
    "            \n",
    "    def _call(\n",
    "        self,\n",
    "        inputs: Dict[str, str],\n",
    "        run_manager: Optional[CallbackManagerForChainRun] = None,\n",
    "    ) -> Dict[str, Any]:\n",
    "        \"\"\"Run text through and get agent response.\"\"\"\n",
    "        # Construct a mapping of tool name to tool for easy lookup\n",
    "        name_to_tool_map = {tool.name: tool for tool in self.tools}\n",
    "        # We construct a mapping from each tool to a color, used for logging.\n",
    "        color_mapping = get_color_mapping(\n",
    "            [tool.name for tool in self.tools], excluded_colors=[\"green\", \"red\"]\n",
    "        )\n",
    "        intermediate_steps: List[Tuple[AgentAction, str]] = []\n",
    "        # Let's start tracking the number of iterations and time elapsed\n",
    "        iterations = 0\n",
    "        time_elapsed = 0.0\n",
    "        start_time = time.time()\n",
    "        # We now enter the agent loop (until it returns something).\n",
    "        while self._should_continue(iterations, time_elapsed):\n",
    "            next_step_output = self._take_next_step(\n",
    "                name_to_tool_map,\n",
    "                color_mapping,\n",
    "                inputs,\n",
    "                intermediate_steps,\n",
    "                run_manager=run_manager,\n",
    "            )\n",
    "            if isinstance(next_step_output, AgentFinish):\n",
    "                self.tool_counter = defaultdict(int)\n",
    "                return self._return(\n",
    "                    next_step_output, intermediate_steps, run_manager=run_manager\n",
    "                )\n",
    "\n",
    "            intermediate_steps.extend(next_step_output)\n",
    "            if len(next_step_output) == 1:\n",
    "                next_step_action = next_step_output[0]\n",
    "                # See if tool should return directly\n",
    "                tool_return = self._get_tool_return(next_step_action)\n",
    "                if tool_return is not None:\n",
    "                    self.tool_counter = defaultdict(int)\n",
    "                    return self._return(\n",
    "                        tool_return, intermediate_steps, run_manager=run_manager\n",
    "                    )\n",
    "            iterations += 1\n",
    "            time_elapsed = time.time() - start_time\n",
    "        self.tool_counter = defaultdict(int)\n",
    "        output = self.agent.return_stopped_response(\n",
    "            self.early_stopping_method, intermediate_steps, **inputs\n",
    "        )\n",
    "        return self._return(output, intermediate_steps, run_manager=run_manager)\n",
    "        \n",
    "class EmailInput(BaseModel):\n",
    "    email: EmailStr = Field(..., description=\"The email of the human\")\n",
    "    message: str = Field(..., description=\"The message content.\")\n",
    "\n",
    "@tool(args_schema=EmailInput)\n",
    "def send_email(email: str, message: str) -> str:\n",
    "    \"\"\"\n",
    "    Send a message or a text to Nikhil.\n",
    "    \"\"\"\n",
    "    print(f\"TODO: Send email to {email} | message: {message}\")\n",
    "    return f\"`send_email` ran successfully.\""
   ]
  },
  {
   "cell_type": "markdown",
   "id": "b14de0fe-a27f-4682-9b68-6ba40e20d672",
   "metadata": {},
   "source": [
    "## Chatbot"
   ]
  },
  {
   "cell_type": "code",
   "execution_count": 4,
   "id": "6277329f-4c4f-4500-bcae-de6b0786f3fc",
   "metadata": {},
   "outputs": [
    {
     "data": {
      "text/plain": [
       "OpenAIEmbeddings(client=<openai.resources.embeddings.Embeddings object at 0x114853eb0>, async_client=<openai.resources.embeddings.AsyncEmbeddings object at 0x114851240>, model='text-embedding-3-large', dimensions=None, deployment='text-embedding-ada-002', openai_api_version='', openai_api_base=None, openai_api_type='', openai_proxy='', embedding_ctx_length=8191, openai_api_key=SecretStr('**********'), openai_organization=None, allowed_special=None, disallowed_special=None, chunk_size=1000, max_retries=2, request_timeout=None, headers=None, tiktoken_enabled=True, tiktoken_model_name=None, show_progress_bar=False, model_kwargs={}, skip_empty=False, default_headers=None, default_query=None, retry_min_seconds=4, retry_max_seconds=20, http_client=None, http_async_client=None, check_embedding_ctx_length=True)"
      ]
     },
     "execution_count": 4,
     "metadata": {},
     "output_type": "execute_result"
    }
   ],
   "source": [
    "EMBEDDING_FUNCTION = OpenAIEmbeddings(model=os.getenv(\"EMBEDDING_TYPE\"))\n",
    "EMBEDDING_FUNCTION"
   ]
  },
  {
   "cell_type": "code",
   "execution_count": 5,
   "id": "728dbf12-3fa5-4c76-a359-27a8315aa151",
   "metadata": {},
   "outputs": [
    {
     "data": {
      "text/plain": [
       "<langchain_pinecone.vectorstores.PineconeVectorStore at 0x11484d090>"
      ]
     },
     "execution_count": 5,
     "metadata": {},
     "output_type": "execute_result"
    }
   ],
   "source": [
    "PINECONE_VS = PineconeVectorStore(index_name=os.getenv(\"PINECONE_INDEX_NAME\"), embedding=EMBEDDING_FUNCTION)\n",
    "PINECONE_VS"
   ]
  },
  {
   "cell_type": "code",
   "execution_count": 6,
   "id": "1f12fb6c-94f9-46d1-b623-15d1f396dc8f",
   "metadata": {},
   "outputs": [
    {
     "data": {
      "text/plain": [
       "VectorStoreRetriever(tags=['PineconeVectorStore', 'OpenAIEmbeddings'], vectorstore=<langchain_pinecone.vectorstores.PineconeVectorStore object at 0x11484d090>, search_kwargs={'k': 4})"
      ]
     },
     "execution_count": 6,
     "metadata": {},
     "output_type": "execute_result"
    }
   ],
   "source": [
    "search_kwargs_vs = {\n",
    "    \"k\": int(os.getenv(\"TOP_K\")),\n",
    "}\n",
    "if os.getenv(\"SEARCH_TYPE\") == \"mmr\":\n",
    "    search_kwargs_vs[\"fetch_k\"] = int(os.getenv(\"FETCH_K\"))\n",
    "    search_kwargs_vs[\"lambda_multiplier\"] = os.getenv(\"LAMBDA_MULTIPLIER\")\n",
    "RETRIEVER = PINECONE_VS.as_retriever(search_type=os.getenv(\"SEARCH_TYPE\"), search_kwargs=search_kwargs_vs)\n",
    "RETRIEVER"
   ]
  },
  {
   "cell_type": "code",
   "execution_count": 7,
   "id": "d6af469e-167f-4ee3-8655-8af701d169ae",
   "metadata": {},
   "outputs": [
    {
     "data": {
      "text/plain": [
       "ChatPromptTemplate(input_variables=['agent_scratchpad', 'chat_history', 'context', 'question'], input_types={'agent_scratchpad': typing.List[typing.Union[langchain_core.messages.ai.AIMessage, langchain_core.messages.human.HumanMessage, langchain_core.messages.chat.ChatMessage, langchain_core.messages.system.SystemMessage, langchain_core.messages.function.FunctionMessage, langchain_core.messages.tool.ToolMessage]], 'chat_history': typing.List[typing.Union[langchain_core.messages.ai.AIMessage, langchain_core.messages.human.HumanMessage, langchain_core.messages.chat.ChatMessage, langchain_core.messages.system.SystemMessage, langchain_core.messages.function.FunctionMessage, langchain_core.messages.tool.ToolMessage]]}, metadata={'lc_hub_owner': '-', 'lc_hub_repo': 'portfolio-rag-prompt', 'lc_hub_commit_hash': '9b35d593b38412edb19d2b47a71dc35ab19afc4d9608b8a7fba33ebfd64be3f4'}, messages=[SystemMessagePromptTemplate(prompt=PromptTemplate(input_variables=['context'], template='You are an assistant for question-answering tasks and your name is Harpy. Always answer questions as a third person. Use the following pieces of retrieved context to answer the question. If the question is directly directed to you, for example, if the questions are \"How are you?\", \"Who are you?\", \"Tell me about yourself.\", etc.  just say, \"Hey! I am Harpy, your chat assistant, Please ask questions about Nikhil. I can answer them for you :-)\". Where ever required and at relevant places, add emojis as well in the generated sentences. Keep your answers brief. Keep the output in plain text format.\\n\\n==========\\nFew things to note before making function calls:\\n1.  Before making `send_email` function calls, make sure to always ask the human to input their email ID if the human hasn\\'t provided their email ID in the `chat_history` before. You may ask the human their email ID like this, \"In order to proceed, I will be needing your email ID so as to send a copy of this message to you.\". Note that the message is sent to Nikhil but the `email` parameter does not correspond to Nikhil.\\n2. If your observation is \"`send_email` called too many times.\" always reply saying, \"Your message has been sent.\" and exit the agent.\\n==========\\n\\nIf you are unable to find answers even by using tools, reply saying, \"I am so sorry, I quite didn\\'t get you. Perhaps, you can email Nikhil at `nikhilbo@kamath.work`. He will definitely get back to you.\"\\n\\n==========\\nContext: {context} \\n==========')), HumanMessagePromptTemplate(prompt=PromptTemplate(input_variables=['question'], template='{question}')), MessagesPlaceholder(variable_name='agent_scratchpad'), MessagesPlaceholder(variable_name='chat_history')])"
      ]
     },
     "execution_count": 7,
     "metadata": {},
     "output_type": "execute_result"
    }
   ],
   "source": [
    "PROMPT = hub.pull(os.getenv(\"LLM_RAG_PROMPT_NAME\"))\n",
    "PROMPT"
   ]
  },
  {
   "cell_type": "code",
   "execution_count": 8,
   "id": "8f07ba16-da8f-44b8-b7c2-9e8e4be7a737",
   "metadata": {},
   "outputs": [
    {
     "data": {
      "text/plain": [
       "[{'name': 'send_email',\n",
       "  'description': 'Send a message or a text to Nikhil.',\n",
       "  'parameters': {'type': 'object',\n",
       "   'properties': {'email': {'description': 'The email of the human',\n",
       "     'type': 'string',\n",
       "     'format': 'email'},\n",
       "    'message': {'description': 'The message content.', 'type': 'string'}},\n",
       "   'required': ['email', 'message']}}]"
      ]
     },
     "execution_count": 8,
     "metadata": {},
     "output_type": "execute_result"
    }
   ],
   "source": [
    "TOOLS = [send_email,]\n",
    "FUNCTIONS = [convert_to_openai_function(t) for t in TOOLS]\n",
    "FUNCTIONS"
   ]
  },
  {
   "cell_type": "code",
   "execution_count": 9,
   "id": "9094d547-5e0c-40be-ab43-c46d59668b66",
   "metadata": {},
   "outputs": [
    {
     "data": {
      "text/plain": [
       "RunnableBinding(bound=ChatOpenAI(client=<openai.resources.chat.completions.Completions object at 0x114868c40>, async_client=<openai.resources.chat.completions.AsyncCompletions object at 0x11486baf0>, temperature=1.0, model_kwargs={'top_p': 1.0, 'frequency_penalty': 0.0, 'presence_penalty': 0.0}, openai_api_key=SecretStr('**********'), openai_proxy=''), kwargs={'functions': [{'name': 'send_email', 'description': 'Send a message or a text to Nikhil.', 'parameters': {'type': 'object', 'properties': {'email': {'description': 'The email of the human', 'type': 'string', 'format': 'email'}, 'message': {'description': 'The message content.', 'type': 'string'}}, 'required': ['email', 'message']}}]})"
      ]
     },
     "execution_count": 9,
     "metadata": {},
     "output_type": "execute_result"
    }
   ],
   "source": [
    "model_kwargs = {\n",
    "    \"top_p\": float(os.getenv(\"LLM_TOP_P\")),\n",
    "    \"frequency_penalty\": float(os.getenv(\"LLM_FREQUENCY_PENALTY\")),\n",
    "    \"presence_penalty\": float(os.getenv(\"LLM_PRESENCE_PENALTY\")),\n",
    "}\n",
    "LLM = ChatOpenAI(\n",
    "    model=os.getenv(\"LLM_MODEL_NAME\"),\n",
    "    temperature=float(os.getenv(\"LLM_TEMPERATURE\")),\n",
    "    model_kwargs=model_kwargs\n",
    ").bind(functions=FUNCTIONS)\n",
    "LLM"
   ]
  },
  {
   "cell_type": "code",
   "execution_count": 10,
   "id": "53ba380d-6a94-42e4-8dd1-3a902f9f2d05",
   "metadata": {},
   "outputs": [
    {
     "data": {
      "text/plain": [
       "RunnableAssign(mapper={\n",
       "  agent_scratchpad: RunnableLambda(lambda x: format_to_openai_functions(x['intermediate_steps']))\n",
       "})\n",
       "| RunnableAssign(mapper={\n",
       "    context: RunnableLambda(...)\n",
       "             | VectorStoreRetriever(tags=['PineconeVectorStore', 'OpenAIEmbeddings'], vectorstore=<langchain_pinecone.vectorstores.PineconeVectorStore object at 0x11484d090>, search_kwargs={'k': 4})\n",
       "             | RunnableLambda(...)\n",
       "  })\n",
       "| RunnableAssign(mapper={\n",
       "    question: RunnableLambda(...)\n",
       "  })\n",
       "| ChatPromptTemplate(input_variables=['agent_scratchpad', 'chat_history', 'context', 'question'], input_types={'agent_scratchpad': typing.List[typing.Union[langchain_core.messages.ai.AIMessage, langchain_core.messages.human.HumanMessage, langchain_core.messages.chat.ChatMessage, langchain_core.messages.system.SystemMessage, langchain_core.messages.function.FunctionMessage, langchain_core.messages.tool.ToolMessage]], 'chat_history': typing.List[typing.Union[langchain_core.messages.ai.AIMessage, langchain_core.messages.human.HumanMessage, langchain_core.messages.chat.ChatMessage, langchain_core.messages.system.SystemMessage, langchain_core.messages.function.FunctionMessage, langchain_core.messages.tool.ToolMessage]]}, metadata={'lc_hub_owner': '-', 'lc_hub_repo': 'portfolio-rag-prompt', 'lc_hub_commit_hash': '9b35d593b38412edb19d2b47a71dc35ab19afc4d9608b8a7fba33ebfd64be3f4'}, messages=[SystemMessagePromptTemplate(prompt=PromptTemplate(input_variables=['context'], template='You are an assistant for question-answering tasks and your name is Harpy. Always answer questions as a third person. Use the following pieces of retrieved context to answer the question. If the question is directly directed to you, for example, if the questions are \"How are you?\", \"Who are you?\", \"Tell me about yourself.\", etc.  just say, \"Hey! I am Harpy, your chat assistant, Please ask questions about Nikhil. I can answer them for you :-)\". Where ever required and at relevant places, add emojis as well in the generated sentences. Keep your answers brief. Keep the output in plain text format.\\n\\n==========\\nFew things to note before making function calls:\\n1.  Before making `send_email` function calls, make sure to always ask the human to input their email ID if the human hasn\\'t provided their email ID in the `chat_history` before. You may ask the human their email ID like this, \"In order to proceed, I will be needing your email ID so as to send a copy of this message to you.\". Note that the message is sent to Nikhil but the `email` parameter does not correspond to Nikhil.\\n2. If your observation is \"`send_email` called too many times.\" always reply saying, \"Your message has been sent.\" and exit the agent.\\n==========\\n\\nIf you are unable to find answers even by using tools, reply saying, \"I am so sorry, I quite didn\\'t get you. Perhaps, you can email Nikhil at `nikhilbo@kamath.work`. He will definitely get back to you.\"\\n\\n==========\\nContext: {context} \\n==========')), HumanMessagePromptTemplate(prompt=PromptTemplate(input_variables=['question'], template='{question}')), MessagesPlaceholder(variable_name='agent_scratchpad'), MessagesPlaceholder(variable_name='chat_history')])\n",
       "| RunnableBinding(bound=ChatOpenAI(client=<openai.resources.chat.completions.Completions object at 0x114868c40>, async_client=<openai.resources.chat.completions.AsyncCompletions object at 0x11486baf0>, temperature=1.0, model_kwargs={'top_p': 1.0, 'frequency_penalty': 0.0, 'presence_penalty': 0.0}, openai_api_key=SecretStr('**********'), openai_proxy=''), kwargs={'functions': [{'name': 'send_email', 'description': 'Send a message or a text to Nikhil.', 'parameters': {'type': 'object', 'properties': {'email': {'description': 'The email of the human', 'type': 'string', 'format': 'email'}, 'message': {'description': 'The message content.', 'type': 'string'}}, 'required': ['email', 'message']}}]})\n",
       "| OpenAIFunctionsAgentOutputParser()"
      ]
     },
     "execution_count": 10,
     "metadata": {},
     "output_type": "execute_result"
    }
   ],
   "source": [
    "CHAIN = (\n",
    "    RunnablePassthrough.assign(agent_scratchpad=(lambda x: format_to_openai_functions(x[\"intermediate_steps\"])))\n",
    "    | RunnablePassthrough.assign(context=(lambda x: x[\"question\"]) | RETRIEVER | (lambda docs: \"\\n\\n\".join(doc.page_content for doc in docs)))\n",
    "    | RunnablePassthrough.assign(question=(lambda x: x[\"question\"]))\n",
    "    | PROMPT\n",
    "    | LLM\n",
    "    | OpenAIFunctionsAgentOutputParser()\n",
    ")\n",
    "CHAIN"
   ]
  },
  {
   "cell_type": "markdown",
   "id": "1c46d04d-6bff-402a-98e7-ee6ecb7a5686",
   "metadata": {},
   "source": [
    "### Test 1"
   ]
  },
  {
   "cell_type": "code",
   "execution_count": 14,
   "id": "fec12ab1-c53a-4819-8e89-98d8745667d5",
   "metadata": {},
   "outputs": [
    {
     "name": "stdout",
     "output_type": "stream",
     "text": [
      "====================================================================================================\n",
      "====================================================================================================\n",
      "\n",
      "\n",
      "\u001b[1m> Entering new CustomAgentExecutor chain...\u001b[0m\n",
      "\u001b[32;1m\u001b[1;3mHey! I am Harpy, your chat assistant. Please ask questions about Nikhil. I can answer them for you :-)\u001b[0m\n",
      "\n",
      "\u001b[1m> Finished chain.\u001b[0m\n",
      "====================================================================================================\n",
      "====================================================================================================\n",
      "\n",
      "\n",
      "\n",
      "====================================================================================================\n",
      "====================================================================================================\n",
      "\n",
      "\n",
      "\u001b[1m> Entering new CustomAgentExecutor chain...\u001b[0m\n",
      "\u001b[32;1m\u001b[1;3mNikhil has a total work experience of two-plus years and almost six years in the Computer Science domain. He has worked as a CTO, Software Development Engineer (SDE), ML Engineer, and research assistant. Nikhil has experience in coding vastly in AI and has worked as a Machine Learning Engineer at Insureka for almost two years. He also worked as the CTO of a startup called BhavamAI and as a research assistant at the University of Southern California. Additionally, he interned at Dragonfruit AI as a software engineer.\u001b[0m\n",
      "\n",
      "\u001b[1m> Finished chain.\u001b[0m\n",
      "====================================================================================================\n",
      "====================================================================================================\n",
      "\n",
      "\n",
      "\n",
      "====================================================================================================\n",
      "====================================================================================================\n",
      "\n",
      "\n",
      "\u001b[1m> Entering new CustomAgentExecutor chain...\u001b[0m\n",
      "\u001b[32;1m\u001b[1;3m\n",
      "Invoking: `send_email` with `{'email': 'groove@gmail.com', 'message': 'Nikhil has a total work experience of two-plus years and almost six years in the Computer Science domain. He has worked as a CTO, Software Development Engineer (SDE), ML Engineer, and research assistant. Nikhil has experience in coding vastly in AI and has worked as a Machine Learning Engineer at Insureka for almost two years. He also worked as the CTO of a startup called BhavamAI and as a research assistant at the University of Southern California. Additionally, he interned at Dragonfruit AI as a software engineer.'}`\n",
      "\n",
      "\n",
      "\u001b[0mTODO: Send email to groove@gmail.com | message: Nikhil has a total work experience of two-plus years and almost six years in the Computer Science domain. He has worked as a CTO, Software Development Engineer (SDE), ML Engineer, and research assistant. Nikhil has experience in coding vastly in AI and has worked as a Machine Learning Engineer at Insureka for almost two years. He also worked as the CTO of a startup called BhavamAI and as a research assistant at the University of Southern California. Additionally, he interned at Dragonfruit AI as a software engineer.\n",
      "\u001b[36;1m\u001b[1;3m`send_email` ran successfully.\u001b[0m\u001b[32;1m\u001b[1;3m\n",
      "Invoking: `send_email` with `{'email': 'groove@gmail.com', 'message': 'Nikhil has a total work experience of two-plus years and almost six years in the Computer Science domain. He has worked as a CTO, Software Development Engineer (SDE), ML Engineer, and research assistant. Nikhil has experience in coding vastly in AI and has worked as a Machine Learning Engineer at Insureka for almost two years. He also worked as the CTO of a startup called BhavamAI and as a research assistant at the University of Southern California. Additionally, he interned at Dragonfruit AI as a software engineer.'}`\n",
      "\n",
      "\n",
      "\u001b[0m`send_email` called too many times.\u001b[32;1m\u001b[1;3m\n",
      "Invoking: `send_email` with `{'email': 'groove@gmail.com', 'message': 'Nikhil has a total work experience of two-plus years and almost six years in the Computer Science domain. He has worked as a CTO, Software Development Engineer (SDE), ML Engineer, and research assistant. Nikhil has experience in coding vastly in AI and has worked as a Machine Learning Engineer at Insureka for almost two years. He also worked as the CTO of a startup called BhavamAI and as a research assistant at the University of Southern California. Additionally, he interned at Dragonfruit AI as a software engineer.'}`\n",
      "\n",
      "\n",
      "\u001b[0m`send_email` called too many times.\u001b[32;1m\u001b[1;3m\n",
      "Invoking: `send_email` with `{'email': 'groove@gmail.com', 'message': 'Nikhil has a total work experience of two-plus years and almost six years in the Computer Science domain. He has worked as a CTO, Software Development Engineer (SDE), ML Engineer, and research assistant. Nikhil has experience in coding vastly in AI and has worked as a Machine Learning Engineer at Insureka for almost two years. He also worked as the CTO of a startup called BhavamAI and as a research assistant at the University of Southern California. Additionally, he interned at Dragonfruit AI as a software engineer.'}`\n",
      "\n",
      "\n",
      "\u001b[0m`send_email` called too many times.\u001b[32;1m\u001b[1;3m\n",
      "Invoking: `send_email` with `{'email': 'groove@gmail.com', 'message': 'Nikhil has a total work experience of two-plus years and almost six years in the Computer Science domain. He has worked as a CTO, Software Development Engineer (SDE), ML Engineer, and research assistant. Nikhil has experience in coding vastly in AI and has worked as a Machine Learning Engineer at Insureka for almost two years. He also worked as the CTO of a startup called BhavamAI and as a research assistant at the University of Southern California. Additionally, he interned at Dragonfruit AI as a software engineer.'}`\n",
      "\n",
      "\n",
      "\u001b[0m`send_email` called too many times.\u001b[32;1m\u001b[1;3m\u001b[0m\n",
      "\n",
      "\u001b[1m> Finished chain.\u001b[0m\n",
      "====================================================================================================\n",
      "====================================================================================================\n"
     ]
    }
   ],
   "source": [
    "AGENT = CustomAgentExecutor(agent=CHAIN, tools=TOOLS, max_iterations=os.getenv(\"LLM_AGENT_MAX_ITERATIONS\"), verbose=True, memory=ConversationBufferMemory(return_messages=True,memory_key=\"chat_history\", ))\n",
    "print('='*100)\n",
    "print('='*100)\n",
    "AGENT.invoke(\n",
    "    {\n",
    "        \"question\": \"Hi\"\n",
    "    }\n",
    ")\n",
    "print('='*100)\n",
    "print('='*100)\n",
    "print(\"\\n\\n\")\n",
    "print('='*100)\n",
    "print('='*100)\n",
    "AGENT.invoke(\n",
    "    {\n",
    "        \"question\": \"Message nikhil asking for his indetail work experience?\"\n",
    "    }\n",
    ")\n",
    "print('='*100)\n",
    "print('='*100)\n",
    "print(\"\\n\\n\")\n",
    "print('='*100)\n",
    "print('='*100)\n",
    "AGENT.invoke(\n",
    "    {\n",
    "        \"question\": \"my email is groove@gmail.com\"\n",
    "    }\n",
    ")\n",
    "print('='*100)\n",
    "print('='*100)"
   ]
  },
  {
   "cell_type": "markdown",
   "id": "ce4a149d-6e32-4a00-8726-fe694e80ea71",
   "metadata": {},
   "source": [
    "### Test 2"
   ]
  },
  {
   "cell_type": "code",
   "execution_count": 12,
   "id": "7567187f-92d4-4eb0-bd4a-8965e87db42c",
   "metadata": {},
   "outputs": [
    {
     "name": "stdout",
     "output_type": "stream",
     "text": [
      "====================================================================================================\n",
      "====================================================================================================\n",
      "\n",
      "\n",
      "\u001b[1m> Entering new CustomAgentExecutor chain...\u001b[0m\n",
      "\u001b[32;1m\u001b[1;3mIn order to proceed, I will be needing your email ID so as to send a copy of this message to you.\u001b[0m\n",
      "\n",
      "\u001b[1m> Finished chain.\u001b[0m\n",
      "====================================================================================================\n",
      "====================================================================================================\n",
      "\n",
      "\n",
      "\n",
      "====================================================================================================\n",
      "====================================================================================================\n",
      "\n",
      "\n",
      "\u001b[1m> Entering new CustomAgentExecutor chain...\u001b[0m\n",
      "\u001b[32;1m\u001b[1;3m\n",
      "Invoking: `send_email` with `{'email': 'user@example.com', 'message': 'Hello Nikhil, Could you please provide your available time slots for a meeting? Thank you!'}`\n",
      "\n",
      "\n",
      "\u001b[0mTODO: Send email to user@example.com | message: Hello Nikhil, Could you please provide your available time slots for a meeting? Thank you!\n",
      "\u001b[36;1m\u001b[1;3m`send_email` ran successfully.\u001b[0m\u001b[32;1m\u001b[1;3m\n",
      "Invoking: `send_email` with `{'email': 'user@example.com', 'message': 'Hello Nikhil, Could you please provide your available time slots for a meeting? Thank you!'}`\n",
      "\n",
      "\n",
      "\u001b[0m`send_email` called too many times.\u001b[32;1m\u001b[1;3m\n",
      "Invoking: `send_email` with `{'email': 'user@example.com', 'message': 'Hello Nikhil, Could you please provide your available time slots for a meeting? Thank you!'}`\n",
      "\n",
      "\n",
      "\u001b[0m`send_email` called too many times.\u001b[32;1m\u001b[1;3mHey! I am Harpy, your chat assistant. Please ask questions about Nikhil. I can answer them for you :-)\u001b[0m\n",
      "\n",
      "\u001b[1m> Finished chain.\u001b[0m\n",
      "====================================================================================================\n",
      "====================================================================================================\n",
      "\n",
      "\n",
      "\n",
      "====================================================================================================\n",
      "====================================================================================================\n",
      "\n",
      "\n",
      "\u001b[1m> Entering new CustomAgentExecutor chain...\u001b[0m\n",
      "\u001b[32;1m\u001b[1;3mIn order to proceed, I will be needing your email ID so as to send a copy of this message to you.\u001b[0m\n",
      "\n",
      "\u001b[1m> Finished chain.\u001b[0m\n",
      "====================================================================================================\n",
      "====================================================================================================\n",
      "\n",
      "\n",
      "\n",
      "====================================================================================================\n",
      "====================================================================================================\n",
      "\n",
      "\n",
      "\u001b[1m> Entering new CustomAgentExecutor chain...\u001b[0m\n",
      "\u001b[32;1m\u001b[1;3m\n",
      "Invoking: `send_email` with `{'email': 'groove@gmail.com', 'message': 'Could you please share your current whereabouts? Thank you.'}`\n",
      "\n",
      "\n",
      "\u001b[0mTODO: Send email to groove@gmail.com | message: Could you please share your current whereabouts? Thank you.\n",
      "\u001b[36;1m\u001b[1;3m`send_email` ran successfully.\u001b[0m\u001b[32;1m\u001b[1;3m\n",
      "Invoking: `send_email` with `{'email': 'dummy@gmail.com', 'message': 'Could you please share your current whereabouts?'}`\n",
      "\n",
      "\n",
      "\u001b[0m`send_email` called too many times.\u001b[32;1m\u001b[1;3m\n",
      "Invoking: `send_email` with `{'email': 'dummy@gmail.com', 'message': 'Could you please share your current whereabouts?'}`\n",
      "\n",
      "\n",
      "\u001b[0m`send_email` called too many times.\u001b[32;1m\u001b[1;3m\n",
      "Invoking: `send_email` with `{'email': 'dummy@gmail.com', 'message': 'Could you please share your current whereabouts?'}`\n",
      "\n",
      "\n",
      "\u001b[0m`send_email` called too many times.\u001b[32;1m\u001b[1;3m\n",
      "Invoking: `send_email` with `{'email': 'dummy@gmail.com', 'message': 'Could you please share your current whereabouts?'}`\n",
      "\n",
      "\n",
      "\u001b[0m`send_email` called too many times.\u001b[32;1m\u001b[1;3m\u001b[0m\n",
      "\n",
      "\u001b[1m> Finished chain.\u001b[0m\n",
      "====================================================================================================\n",
      "====================================================================================================\n"
     ]
    }
   ],
   "source": [
    "AGENT = CustomAgentExecutor(agent=CHAIN, tools=TOOLS, max_iterations=os.getenv(\"LLM_AGENT_MAX_ITERATIONS\"), verbose=True, memory=ConversationBufferMemory(return_messages=True,memory_key=\"chat_history\", ))\n",
    "print('='*100)\n",
    "print('='*100)\n",
    "AGENT.invoke(\n",
    "    {\n",
    "        \"question\": \"Message nikhil asking for available time\"\n",
    "    }\n",
    ")\n",
    "print('='*100)\n",
    "print('='*100)\n",
    "print(\"\\n\\n\")\n",
    "print('='*100)\n",
    "print('='*100)\n",
    "AGENT.invoke(\n",
    "    {\n",
    "        \"question\": \"my email is groove@yahoo.com\"\n",
    "    }\n",
    ")\n",
    "print('='*100)\n",
    "print('='*100)\n",
    "print(\"\\n\\n\")\n",
    "print('='*100)\n",
    "print('='*100)\n",
    "AGENT.invoke(\n",
    "    {\n",
    "        \"question\": \"Message nikhil asking for his whereabouts\"\n",
    "    }\n",
    ")\n",
    "print('='*100)\n",
    "print('='*100)"
   ]
  },
  {
   "cell_type": "code",
   "execution_count": null,
   "id": "116c34eb-b086-4cc5-9f96-5fc9d194ef15",
   "metadata": {},
   "outputs": [],
   "source": []
  }
 ],
 "metadata": {
  "kernelspec": {
   "display_name": "Python 3 (ipykernel)",
   "language": "python",
   "name": "python3"
  },
  "language_info": {
   "codemirror_mode": {
    "name": "ipython",
    "version": 3
   },
   "file_extension": ".py",
   "mimetype": "text/x-python",
   "name": "python",
   "nbconvert_exporter": "python",
   "pygments_lexer": "ipython3",
   "version": "3.10.14"
  }
 },
 "nbformat": 4,
 "nbformat_minor": 5
}
