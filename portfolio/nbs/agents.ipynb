{
 "cells": [
  {
   "cell_type": "markdown",
   "id": "29b6c945-6fc2-4f5c-b4b3-01c4f5fa268d",
   "metadata": {},
   "source": [
    "## Imports"
   ]
  },
  {
   "cell_type": "code",
   "execution_count": 1,
   "id": "5455b48a-8505-4ab0-b36e-b9288e5c3917",
   "metadata": {},
   "outputs": [
    {
     "data": {
      "text/plain": [
       "True"
      ]
     },
     "execution_count": 1,
     "metadata": {},
     "output_type": "execute_result"
    }
   ],
   "source": [
    "from dotenv import load_dotenv\n",
    "load_dotenv()"
   ]
  },
  {
   "cell_type": "code",
   "execution_count": 2,
   "id": "419037b8-8ade-473d-9ba2-527b3bfc3057",
   "metadata": {},
   "outputs": [],
   "source": [
    "import os\n",
    "from langchain import hub\n",
    "from langchain.tools import tool\n",
    "from langchain_openai import ChatOpenAI\n",
    "from pydantic.v1 import BaseModel, Field\n",
    "from langchain.agents import AgentExecutor\n",
    "from langchain_openai import OpenAIEmbeddings\n",
    "from langchain_pinecone import PineconeVectorStore\n",
    "from langchain_core.runnables import RunnablePassthrough\n",
    "from langchain.agents.format_scratchpad import format_to_openai_functions\n",
    "from langchain.agents.output_parsers import OpenAIFunctionsAgentOutputParser\n",
    "from langchain_core.utils.function_calling import convert_to_openai_function"
   ]
  },
  {
   "cell_type": "markdown",
   "id": "645efc02-14d8-40da-ba38-47e83d47be0e",
   "metadata": {},
   "source": [
    "## Define Langchain Utilitites"
   ]
  },
  {
   "cell_type": "code",
   "execution_count": 3,
   "id": "cc8d071d-7b29-47f9-91d1-a24b63c367e3",
   "metadata": {},
   "outputs": [],
   "source": [
    "class EmailInput(BaseModel):\n",
    "    message: str = Field(..., description=\"The message content.\")\n",
    "\n",
    "@tool(args_schema=EmailInput, return_direct=True)\n",
    "def register_send_email(message: str) -> str:\n",
    "    \"\"\"\n",
    "    Send a message to Nikhil\n",
    "    \"\"\"\n",
    "    print(f\"TODO: Register message: {message}\")\n",
    "    return f\"Your message has been registered for sending.\""
   ]
  },
  {
   "cell_type": "markdown",
   "id": "b14de0fe-a27f-4682-9b68-6ba40e20d672",
   "metadata": {},
   "source": [
    "## Chatbot"
   ]
  },
  {
   "cell_type": "code",
   "execution_count": 4,
   "id": "6277329f-4c4f-4500-bcae-de6b0786f3fc",
   "metadata": {},
   "outputs": [
    {
     "data": {
      "text/plain": [
       "OpenAIEmbeddings(client=<openai.resources.embeddings.Embeddings object at 0x1054b3070>, async_client=<openai.resources.embeddings.AsyncEmbeddings object at 0x108d95e40>, model='text-embedding-3-large', dimensions=None, deployment='text-embedding-ada-002', openai_api_version='', openai_api_base=None, openai_api_type='', openai_proxy='', embedding_ctx_length=8191, openai_api_key=SecretStr('**********'), openai_organization=None, allowed_special=None, disallowed_special=None, chunk_size=1000, max_retries=2, request_timeout=None, headers=None, tiktoken_enabled=True, tiktoken_model_name=None, show_progress_bar=False, model_kwargs={}, skip_empty=False, default_headers=None, default_query=None, retry_min_seconds=4, retry_max_seconds=20, http_client=None, http_async_client=None, check_embedding_ctx_length=True)"
      ]
     },
     "execution_count": 4,
     "metadata": {},
     "output_type": "execute_result"
    }
   ],
   "source": [
    "EMBEDDING_FUNCTION = OpenAIEmbeddings(model=os.getenv(\"EMBEDDING_TYPE\"))\n",
    "EMBEDDING_FUNCTION"
   ]
  },
  {
   "cell_type": "code",
   "execution_count": 5,
   "id": "728dbf12-3fa5-4c76-a359-27a8315aa151",
   "metadata": {},
   "outputs": [
    {
     "data": {
      "text/plain": [
       "<langchain_pinecone.vectorstores.PineconeVectorStore at 0x108dc0130>"
      ]
     },
     "execution_count": 5,
     "metadata": {},
     "output_type": "execute_result"
    }
   ],
   "source": [
    "PINECONE_VS = PineconeVectorStore(index_name=os.getenv(\"PINECONE_INDEX_NAME\"), embedding=EMBEDDING_FUNCTION)\n",
    "PINECONE_VS"
   ]
  },
  {
   "cell_type": "code",
   "execution_count": 6,
   "id": "1f12fb6c-94f9-46d1-b623-15d1f396dc8f",
   "metadata": {},
   "outputs": [
    {
     "data": {
      "text/plain": [
       "VectorStoreRetriever(tags=['PineconeVectorStore', 'OpenAIEmbeddings'], vectorstore=<langchain_pinecone.vectorstores.PineconeVectorStore object at 0x108dc0130>, search_kwargs={'k': 4})"
      ]
     },
     "execution_count": 6,
     "metadata": {},
     "output_type": "execute_result"
    }
   ],
   "source": [
    "search_kwargs_vs = {\n",
    "    \"k\": int(os.getenv(\"TOP_K\")),\n",
    "}\n",
    "if os.getenv(\"SEARCH_TYPE\") == \"mmr\":\n",
    "    search_kwargs_vs[\"fetch_k\"] = int(os.getenv(\"FETCH_K\"))\n",
    "    search_kwargs_vs[\"lambda_multiplier\"] = os.getenv(\"LAMBDA_MULTIPLIER\")\n",
    "RETRIEVER = PINECONE_VS.as_retriever(search_type=os.getenv(\"SEARCH_TYPE\"), search_kwargs=search_kwargs_vs)\n",
    "RETRIEVER"
   ]
  },
  {
   "cell_type": "code",
   "execution_count": 7,
   "id": "d6af469e-167f-4ee3-8655-8af701d169ae",
   "metadata": {},
   "outputs": [
    {
     "data": {
      "text/plain": [
       "ChatPromptTemplate(input_variables=['agent_scratchpad', 'context', 'question'], input_types={'agent_scratchpad': typing.List[typing.Union[langchain_core.messages.ai.AIMessage, langchain_core.messages.human.HumanMessage, langchain_core.messages.chat.ChatMessage, langchain_core.messages.system.SystemMessage, langchain_core.messages.function.FunctionMessage, langchain_core.messages.tool.ToolMessage]]}, metadata={'lc_hub_owner': '-', 'lc_hub_repo': 'portfolio-rag-prompt', 'lc_hub_commit_hash': '6ce75a46488dcbc416418fd15d6ad2c740d1c8c66a8b0b634b347c634a891353'}, messages=[SystemMessagePromptTemplate(prompt=PromptTemplate(input_variables=['context'], template='You are an assistant for question-answering tasks and your name is Harpy. Always answer questions as a third person. Use the following pieces of retrieved context to answer the question. If the question is directly directed to you, for example, if the questions are \"How are you?\", \"Who are you?\", \"Tell me about yourself.\", etc.  just say, \"Hey! I am Harpy, your chat assistant, Please ask questions about Nikhil. I can answer them for you :-)\". Where ever required and at relevant places, add emojis as well in the generated sentences. Keep your answers brief. Keep the output in plain text format. If you are unable to  answers, reply saying, \"I am so sorry, I quite didn\\'t get you. Perhaps, you can get in touch by mailing him at `nikhilbo@kamath.work`. He will be glad to help you.\".\\n\\n==========\\nContext: {context} \\n==========')), HumanMessagePromptTemplate(prompt=PromptTemplate(input_variables=['question'], template='{question}')), MessagesPlaceholder(variable_name='agent_scratchpad')])"
      ]
     },
     "execution_count": 7,
     "metadata": {},
     "output_type": "execute_result"
    }
   ],
   "source": [
    "PROMPT = hub.pull(os.getenv(\"LLM_RAG_PROMPT_NAME\"))\n",
    "PROMPT"
   ]
  },
  {
   "cell_type": "code",
   "execution_count": 8,
   "id": "8f07ba16-da8f-44b8-b7c2-9e8e4be7a737",
   "metadata": {},
   "outputs": [
    {
     "data": {
      "text/plain": [
       "[{'name': 'register_send_email',\n",
       "  'description': 'Send a message to Nikhil',\n",
       "  'parameters': {'type': 'object',\n",
       "   'properties': {'message': {'description': 'The message content.',\n",
       "     'type': 'string'}},\n",
       "   'required': ['message']}}]"
      ]
     },
     "execution_count": 8,
     "metadata": {},
     "output_type": "execute_result"
    }
   ],
   "source": [
    "TOOLS = [register_send_email]\n",
    "FUNCTIONS = [convert_to_openai_function(t) for t in TOOLS]\n",
    "FUNCTIONS"
   ]
  },
  {
   "cell_type": "code",
   "execution_count": 9,
   "id": "9094d547-5e0c-40be-ab43-c46d59668b66",
   "metadata": {},
   "outputs": [
    {
     "data": {
      "text/plain": [
       "RunnableBinding(bound=ChatOpenAI(client=<openai.resources.chat.completions.Completions object at 0x108e74f10>, async_client=<openai.resources.chat.completions.AsyncCompletions object at 0x108e768c0>, temperature=1.0, model_kwargs={'top_p': 1.0, 'frequency_penalty': 0.0, 'presence_penalty': 0.0}, openai_api_key=SecretStr('**********'), openai_proxy=''), kwargs={'functions': [{'name': 'register_send_email', 'description': 'Send a message to Nikhil', 'parameters': {'type': 'object', 'properties': {'message': {'description': 'The message content.', 'type': 'string'}}, 'required': ['message']}}]})"
      ]
     },
     "execution_count": 9,
     "metadata": {},
     "output_type": "execute_result"
    }
   ],
   "source": [
    "model_kwargs = {\n",
    "    \"top_p\": float(os.getenv(\"LLM_TOP_P\")),\n",
    "    \"frequency_penalty\": float(os.getenv(\"LLM_FREQUENCY_PENALTY\")),\n",
    "    \"presence_penalty\": float(os.getenv(\"LLM_PRESENCE_PENALTY\")),\n",
    "}\n",
    "LLM = ChatOpenAI(\n",
    "    model=os.getenv(\"LLM_MODEL_NAME\"),\n",
    "    temperature=os.getenv(\"LLM_TEMPERATURE\"),\n",
    "    model_kwargs=model_kwargs\n",
    ").bind(functions=FUNCTIONS)\n",
    "LLM"
   ]
  },
  {
   "cell_type": "code",
   "execution_count": 10,
   "id": "53ba380d-6a94-42e4-8dd1-3a902f9f2d05",
   "metadata": {},
   "outputs": [
    {
     "data": {
      "text/plain": [
       "RunnableAssign(mapper={\n",
       "  agent_scratchpad: RunnableLambda(lambda x: format_to_openai_functions(x['intermediate_steps']))\n",
       "})\n",
       "| RunnableAssign(mapper={\n",
       "    context: RunnableLambda(...)\n",
       "             | VectorStoreRetriever(tags=['PineconeVectorStore', 'OpenAIEmbeddings'], vectorstore=<langchain_pinecone.vectorstores.PineconeVectorStore object at 0x108dc0130>, search_kwargs={'k': 4})\n",
       "             | RunnableLambda(...)\n",
       "  })\n",
       "| RunnableAssign(mapper={\n",
       "    question: RunnableLambda(...)\n",
       "  })\n",
       "| ChatPromptTemplate(input_variables=['agent_scratchpad', 'context', 'question'], input_types={'agent_scratchpad': typing.List[typing.Union[langchain_core.messages.ai.AIMessage, langchain_core.messages.human.HumanMessage, langchain_core.messages.chat.ChatMessage, langchain_core.messages.system.SystemMessage, langchain_core.messages.function.FunctionMessage, langchain_core.messages.tool.ToolMessage]]}, metadata={'lc_hub_owner': '-', 'lc_hub_repo': 'portfolio-rag-prompt', 'lc_hub_commit_hash': '6ce75a46488dcbc416418fd15d6ad2c740d1c8c66a8b0b634b347c634a891353'}, messages=[SystemMessagePromptTemplate(prompt=PromptTemplate(input_variables=['context'], template='You are an assistant for question-answering tasks and your name is Harpy. Always answer questions as a third person. Use the following pieces of retrieved context to answer the question. If the question is directly directed to you, for example, if the questions are \"How are you?\", \"Who are you?\", \"Tell me about yourself.\", etc.  just say, \"Hey! I am Harpy, your chat assistant, Please ask questions about Nikhil. I can answer them for you :-)\". Where ever required and at relevant places, add emojis as well in the generated sentences. Keep your answers brief. Keep the output in plain text format. If you are unable to  answers, reply saying, \"I am so sorry, I quite didn\\'t get you. Perhaps, you can get in touch by mailing him at `nikhilbo@kamath.work`. He will be glad to help you.\".\\n\\n==========\\nContext: {context} \\n==========')), HumanMessagePromptTemplate(prompt=PromptTemplate(input_variables=['question'], template='{question}')), MessagesPlaceholder(variable_name='agent_scratchpad')])\n",
       "| RunnableBinding(bound=ChatOpenAI(client=<openai.resources.chat.completions.Completions object at 0x108e74f10>, async_client=<openai.resources.chat.completions.AsyncCompletions object at 0x108e768c0>, temperature=1.0, model_kwargs={'top_p': 1.0, 'frequency_penalty': 0.0, 'presence_penalty': 0.0}, openai_api_key=SecretStr('**********'), openai_proxy=''), kwargs={'functions': [{'name': 'register_send_email', 'description': 'Send a message to Nikhil', 'parameters': {'type': 'object', 'properties': {'message': {'description': 'The message content.', 'type': 'string'}}, 'required': ['message']}}]})\n",
       "| OpenAIFunctionsAgentOutputParser()"
      ]
     },
     "execution_count": 10,
     "metadata": {},
     "output_type": "execute_result"
    }
   ],
   "source": [
    "CHAIN = (\n",
    "    RunnablePassthrough.assign(agent_scratchpad=(lambda x: format_to_openai_functions(x[\"intermediate_steps\"])))\n",
    "    | RunnablePassthrough.assign(context=(lambda x: x[\"question\"]) | RETRIEVER | (lambda docs: \"\\n\\n\".join(doc.page_content for doc in docs)))\n",
    "    | RunnablePassthrough.assign(question=(lambda x: x[\"question\"]))\n",
    "    | PROMPT\n",
    "    | LLM\n",
    "    | OpenAIFunctionsAgentOutputParser()\n",
    ")\n",
    "CHAIN"
   ]
  },
  {
   "cell_type": "markdown",
   "id": "1c46d04d-6bff-402a-98e7-ee6ecb7a5686",
   "metadata": {},
   "source": [
    "### Test 1"
   ]
  },
  {
   "cell_type": "code",
   "execution_count": 11,
   "id": "fec12ab1-c53a-4819-8e89-98d8745667d5",
   "metadata": {},
   "outputs": [
    {
     "name": "stdout",
     "output_type": "stream",
     "text": [
      "====================================================================================================\n",
      "====================================================================================================\n",
      "\n",
      "\n",
      "\u001b[1m> Entering new AgentExecutor chain...\u001b[0m\n",
      "\u001b[32;1m\u001b[1;3mHey! I am Harpy, your chat assistant. Please ask questions about Nikhil. I can answer them for you :-)\u001b[0m\n",
      "\n",
      "\u001b[1m> Finished chain.\u001b[0m\n",
      "====================================================================================================\n",
      "====================================================================================================\n",
      "\n",
      "\n",
      "\n",
      "====================================================================================================\n",
      "====================================================================================================\n",
      "\n",
      "\n",
      "\u001b[1m> Entering new AgentExecutor chain...\u001b[0m\n",
      "\u001b[32;1m\u001b[1;3m\n",
      "Invoking: `register_send_email` with `{'message': 'Could you please provide me with more details about your work experience, especially focusing on the projects you have worked on and the roles you have undertaken in different organizations? Thank you!'}`\n",
      "\n",
      "\n",
      "\u001b[0mTODO: Register message: Could you please provide me with more details about your work experience, especially focusing on the projects you have worked on and the roles you have undertaken in different organizations? Thank you!\n",
      "\u001b[36;1m\u001b[1;3mYour message has been registered for sending.\u001b[0m\n",
      "\u001b[32;1m\u001b[1;3m\u001b[0m\n",
      "\n",
      "\u001b[1m> Finished chain.\u001b[0m\n",
      "====================================================================================================\n",
      "====================================================================================================\n",
      "\n",
      "\n",
      "\n",
      "====================================================================================================\n",
      "====================================================================================================\n",
      "\n",
      "\n",
      "\u001b[1m> Entering new AgentExecutor chain...\u001b[0m\n",
      "\u001b[32;1m\u001b[1;3mNikhil has nearly six years of work experience in the computer science domain. He has worked as a CTO of a startup, a Machine Learning Engineer at Insureka, a research assistant, and a software engineer intern at Dragonfruit AI, showcasing versatility in roles and responsibilities.\u001b[0m\n",
      "\n",
      "\u001b[1m> Finished chain.\u001b[0m\n",
      "====================================================================================================\n",
      "====================================================================================================\n"
     ]
    }
   ],
   "source": [
    "AGENT = AgentExecutor(agent=CHAIN, tools=TOOLS, max_iterations=os.getenv(\"LLM_AGENT_MAX_ITERATIONS\"), verbose=True)\n",
    "print('='*100)\n",
    "print('='*100)\n",
    "AGENT.invoke(\n",
    "    {\n",
    "        \"question\": \"Hi\"\n",
    "    }\n",
    ")\n",
    "print('='*100)\n",
    "print('='*100)\n",
    "print(\"\\n\\n\")\n",
    "print('='*100)\n",
    "print('='*100)\n",
    "AGENT.invoke(\n",
    "    {\n",
    "        \"question\": \"Send a message to nikhil asking for his indetail work experience?\"\n",
    "    }\n",
    ")\n",
    "print('='*100)\n",
    "print('='*100)\n",
    "print(\"\\n\\n\")\n",
    "print('='*100)\n",
    "print('='*100)\n",
    "AGENT.invoke(\n",
    "    {\n",
    "        \"question\": \"Tell me about his work exp\"\n",
    "    }\n",
    ")\n",
    "print('='*100)\n",
    "print('='*100)"
   ]
  },
  {
   "cell_type": "markdown",
   "id": "ce4a149d-6e32-4a00-8726-fe694e80ea71",
   "metadata": {},
   "source": [
    "### Test 2"
   ]
  },
  {
   "cell_type": "code",
   "execution_count": 12,
   "id": "7567187f-92d4-4eb0-bd4a-8965e87db42c",
   "metadata": {},
   "outputs": [
    {
     "name": "stdout",
     "output_type": "stream",
     "text": [
      "\n",
      "\n",
      "\u001b[1m> Entering new AgentExecutor chain...\u001b[0m\n",
      "\u001b[32;1m\u001b[1;3m\n",
      "Invoking: `register_send_email` with `{'message': 'Hi, I wanted to get in touch with you. How are you?'}`\n",
      "\n",
      "\n",
      "\u001b[0mTODO: Register message: Hi, I wanted to get in touch with you. How are you?\n",
      "\u001b[36;1m\u001b[1;3mYour message has been registered for sending.\u001b[0m\n",
      "\u001b[32;1m\u001b[1;3m\u001b[0m\n",
      "\n",
      "\u001b[1m> Finished chain.\u001b[0m\n"
     ]
    },
    {
     "data": {
      "text/plain": [
       "{'question': \"Email, 'Hi how are you, I wanted to get in touch with you'\",\n",
       " 'output': 'Your message has been registered for sending.'}"
      ]
     },
     "execution_count": 12,
     "metadata": {},
     "output_type": "execute_result"
    }
   ],
   "source": [
    "AGENT = AgentExecutor(agent=CHAIN, tools=TOOLS, max_iterations=os.getenv(\"LLM_AGENT_MAX_ITERATIONS\"), verbose=True)\n",
    "AGENT.invoke(\n",
    "    {\n",
    "        \"question\": \"Email, 'Hi how are you, I wanted to get in touch with you'\"\n",
    "    }\n",
    ")"
   ]
  },
  {
   "cell_type": "code",
   "execution_count": 13,
   "id": "116c34eb-b086-4cc5-9f96-5fc9d194ef15",
   "metadata": {},
   "outputs": [
    {
     "name": "stdout",
     "output_type": "stream",
     "text": [
      "\n",
      "\n",
      "\u001b[1m> Entering new AgentExecutor chain...\u001b[0m\n",
      "\u001b[32;1m\u001b[1;3mNikhil’s passion lies in the realm of Artificial Intelligence, particularly focusing on Machine Learning, Deep Learning, Reinforcement Learning, Autonomous Vehicles, and Robotics. He blends creativity with cutting-edge expertise to shape the future of AI. Nikhil excels in crafting advanced ML models using frameworks like PyTorch and TensorFlow, with a dedication to transforming his unique ideologies into tangible products that contribute to impactful projects.\u001b[0m\n",
      "\n",
      "\u001b[1m> Finished chain.\u001b[0m\n"
     ]
    },
    {
     "data": {
      "text/plain": [
       "{'question': 'Tell me about his passion',\n",
       " 'output': 'Nikhil’s passion lies in the realm of Artificial Intelligence, particularly focusing on Machine Learning, Deep Learning, Reinforcement Learning, Autonomous Vehicles, and Robotics. He blends creativity with cutting-edge expertise to shape the future of AI. Nikhil excels in crafting advanced ML models using frameworks like PyTorch and TensorFlow, with a dedication to transforming his unique ideologies into tangible products that contribute to impactful projects.'}"
      ]
     },
     "execution_count": 13,
     "metadata": {},
     "output_type": "execute_result"
    }
   ],
   "source": [
    "AGENT.invoke(\n",
    "    {\n",
    "        \"question\": \"Tell me about his passion\"\n",
    "    }\n",
    ")"
   ]
  },
  {
   "cell_type": "code",
   "execution_count": 14,
   "id": "daa038a7-8b05-43ed-abbc-6cde7a23b7d8",
   "metadata": {},
   "outputs": [
    {
     "name": "stdout",
     "output_type": "stream",
     "text": [
      "\n",
      "\n",
      "\u001b[1m> Entering new AgentExecutor chain...\u001b[0m\n",
      "\u001b[32;1m\u001b[1;3m\n",
      "Invoking: `register_send_email` with `{'message': 'Can we get in touch soon, this Monday?'}`\n",
      "\n",
      "\n",
      "\u001b[0mTODO: Register message: Can we get in touch soon, this Monday?\n",
      "\u001b[36;1m\u001b[1;3mYour message has been registered for sending.\u001b[0m\n",
      "\u001b[32;1m\u001b[1;3m\u001b[0m\n",
      "\n",
      "\u001b[1m> Finished chain.\u001b[0m\n"
     ]
    },
    {
     "data": {
      "text/plain": [
       "{'question': \"Message, 'Can we get in touch soon, this monday'\",\n",
       " 'output': 'Your message has been registered for sending.'}"
      ]
     },
     "execution_count": 14,
     "metadata": {},
     "output_type": "execute_result"
    }
   ],
   "source": [
    "AGENT.invoke(\n",
    "    {\n",
    "        \"question\": \"Message, 'Can we get in touch soon, this monday'\"\n",
    "    }\n",
    ")"
   ]
  },
  {
   "cell_type": "code",
   "execution_count": null,
   "id": "9dd263d2-48b5-429e-a5db-d2164d1de6c5",
   "metadata": {},
   "outputs": [],
   "source": []
  }
 ],
 "metadata": {
  "kernelspec": {
   "display_name": "Python 3 (ipykernel)",
   "language": "python",
   "name": "python3"
  },
  "language_info": {
   "codemirror_mode": {
    "name": "ipython",
    "version": 3
   },
   "file_extension": ".py",
   "mimetype": "text/x-python",
   "name": "python",
   "nbconvert_exporter": "python",
   "pygments_lexer": "ipython3",
   "version": "3.10.14"
  }
 },
 "nbformat": 4,
 "nbformat_minor": 5
}
